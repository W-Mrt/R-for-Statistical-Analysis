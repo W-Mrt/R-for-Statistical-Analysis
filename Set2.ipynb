{
 "cells": [
  {
   "cell_type": "code",
   "execution_count": 37,
   "id": "b93edbcf",
   "metadata": {},
   "outputs": [
    {
     "name": "stderr",
     "output_type": "stream",
     "text": [
      "Warning message:\n",
      "\"package 'GoFKernel' is in use and will not be installed\""
     ]
    }
   ],
   "source": [
    "library(tidyverse)\n",
    "library(httr)\n",
    "library(dplyr)\n",
    "library(rvest)\n",
    "library(tibble)\n",
    "library(ggplot2)\n",
    "library(dplyr)\n",
    "library(tidyverse)\n",
    "library(lubridate) \n",
    "#install.packages('ggpubr')\n",
    "#library('ggpubr')\n",
    "install.packages('GoFKernel')\n",
    "library('GoFKernel')"
   ]
  },
  {
   "cell_type": "markdown",
   "id": "4a8c1b81",
   "metadata": {},
   "source": [
    "1. Evaluate the expected values, E[X], and the variance, Var(X), for both methods"
   ]
  },
  {
   "cell_type": "code",
   "execution_count": 9,
   "id": "18b33621",
   "metadata": {},
   "outputs": [
    {
     "name": "stdout",
     "output_type": "stream",
     "text": [
      "[1] \"E1= 15.959\"\n",
      "[1] \"E2= 15.9622\"\n",
      "[1] \"Var1= 0.0339790000000164\"\n",
      "[1] \"Var2= 0.0281671599999811\"\n"
     ]
    }
   ],
   "source": [
    "x <-c(15.58, 15.9, 16, 16.1, 16.2)\n",
    "p1 <-c(0.15, 0.21, 0.35, 0.15, 0.14)\n",
    "p2 <-c(0.14, 0.05, 0.64, 0.08, 0.09)\n",
    "\n",
    "E1 <- sum(p1*x)\n",
    "E2 <- sum(p2*x)\n",
    "Var1 <- sum(p1*x^2)-E1^2\n",
    "Var2 <- sum(p2*x^2)-E2^2\n",
    "\n",
    "print(paste(\"E1=\", E1))\n",
    "print(paste(\"E2=\", E2))\n",
    "print(paste(\"Var1=\", Var1))\n",
    "print(paste(\"Var2=\", Var2))"
   ]
  },
  {
   "cell_type": "markdown",
   "id": "53375a77",
   "metadata": {},
   "source": [
    "2. \n",
    "\n",
    "  A) simulate the waiting time for 50 people at the doctor's once and plot the relative\n",
    "  histogram\n",
    "\n",
    "  B) what is the probability that a person will wait for less than 10 minutes ?\n",
    "\n",
    "  C) evaluate the average waiting time from the simulated data and compare it with\n",
    "  the expected value (calculated from theory and by manipulating the probability\n",
    "  distributions using R)\n",
    "\n",
    "  D) what is the probability for waiting more than one hour before being received ?"
   ]
  },
  {
   "cell_type": "code",
   "execution_count": 10,
   "id": "e39e443e",
   "metadata": {},
   "outputs": [
    {
     "data": {
      "image/png": "[encoded data removed]",
      "text/plain": [
       "Plot with title \"waiting time\""
      ]
     },
     "metadata": {},
     "output_type": "display_data"
    }
   ],
   "source": [
    "wait_time <- 1/48\n",
    "lambda <- 1/30\n",
    "n <- 50\n",
    "waiting50 <- rexp(n,lambda) #exp pdf\n",
    "\n",
    "hist1 <- hist(waiting50, breaks=15, col='aquamarine2', xlab='time', ylab='people', main='waiting time')\n",
    "\n",
    "abline(v = mean(waiting50),                 # Add line for mean\n",
    "       col = \"chocolate3\",\n",
    "       lwd = 3)\n",
    "text(x = mean(waiting50) * 1.,              # Add text for mean\n",
    "     y = mean(waiting50) * 1.,\n",
    "     paste(\"Mean =\", mean(waiting50)),\n",
    "     col = \"chocolate3\",\n",
    "     )"
   ]
  },
  {
   "cell_type": "code",
   "execution_count": 11,
   "id": "bfb7076c",
   "metadata": {},
   "outputs": [
    {
     "name": "stdout",
     "output_type": "stream",
     "text": [
      "[1] \"Probability of waiting less than 10 minutes:  0.283468689426211\"\n"
     ]
    }
   ],
   "source": [
    "less_10 <- pexp(10, lambda)\n",
    "print(paste(\"Probability of waiting less than 10 minutes: \", less_10))\n"
   ]
  },
  {
   "cell_type": "markdown",
   "id": "fda90505",
   "metadata": {},
   "source": [
    "1) theoretical average waiting time is 30 minutes 1/lambda\n",
    "\n",
    "2) in the histogram the mean function helps to find the average from the simulated data (has been done previously)\n",
    "\n",
    "3) from the pdf by using the definition of expectation value: $ E[x] = \\sum_{x=1}^{N} x \\cdot p(x) $"
   ]
  },
  {
   "cell_type": "code",
   "execution_count": 12,
   "id": "ea90dcc7",
   "metadata": {},
   "outputs": [
    {
     "name": "stdout",
     "output_type": "stream",
     "text": [
      "[1] \"True mean: 30\"\n",
      "[1] \"Theoretical mean: 27.2863551916219\"\n",
      "[1] \"Experimental mean: 31.1905635053861\"\n"
     ]
    }
   ],
   "source": [
    "mean_exact <- 1/lambda\n",
    "d <- dexp(0:120, lambda) #0:120 range of values in the hist #exponential density function\n",
    "mean_theo <- sum(0:120*d)\n",
    "mean_exp <- mean(waiting50)\n",
    "\n",
    "print(paste(\"True mean:\", mean_exact))\n",
    "print(paste(\"Theoretical mean:\", mean_theo))\n",
    "print(paste(\"Experimental mean:\", mean_exp))\n"
   ]
  },
  {
   "cell_type": "code",
   "execution_count": 13,
   "id": "9aa6607e",
   "metadata": {},
   "outputs": [
    {
     "name": "stdout",
     "output_type": "stream",
     "text": [
      "[1] \"Probability of waiting more than 60 minutes:  0.135335283236613\"\n"
     ]
    }
   ],
   "source": [
    "more_60 <- 1 - pexp(60, lambda)\n",
    "print(paste(\"Probability of waiting more than 60 minutes: \", more_60))\n"
   ]
  },
  {
   "cell_type": "markdown",
   "id": "1e7059ae",
   "metadata": {},
   "source": [
    "3. let's suppose that on a book, on average, there is one typo error every three pages.\n",
    "If the number of errors follows a Poisson distribution, plot the pdf and cdf, and\n",
    "calculate the probability that there is at least one error on a specific page of the\n",
    "book"
   ]
  },
  {
   "cell_type": "code",
   "execution_count": 14,
   "id": "cdba32aa",
   "metadata": {},
   "outputs": [
    {
     "data": {
      "image/png": "[encoded data removed]",
      "text/plain": [
       "Plot with title \"poisson pdf\""
      ]
     },
     "metadata": {},
     "output_type": "display_data"
    },
    {
     "name": "stdout",
     "output_type": "stream",
     "text": [
      "[1] \"Probability of one error on a specific page 0.283468689426211\"\n"
     ]
    },
    {
     "data": {
      "image/png": "[encoded data removed]",
      "text/plain": [
       "Plot with title \"poisson cdf\""
      ]
     },
     "metadata": {},
     "output_type": "display_data"
    }
   ],
   "source": [
    "lambda <- 1/3\n",
    "typo <- 0:10\n",
    "dhist <- dpois (typo, lambda)\n",
    "phist <- ppois (typo, lambda)\n",
    "barplot(dhist, col='cyan3', names=0:10, xlab='errors per page', ylab='occurrence probability', main='poisson pdf')\n",
    "barplot(phist, col='cyan3', names=0:10, xlab='errors per page', ylab='occurrence probability', main='poisson cdf')\n",
    "\n",
    "err_1 <- 1 - ppois(0, lambda)\n",
    "print(paste('Probability of one error on a specific page', err_1))"
   ]
  },
  {
   "cell_type": "markdown",
   "id": "9d93f48c",
   "metadata": {},
   "source": [
    "4. we randomly draw cards from a deck of 52 cards, with replacement, until one ace is\n",
    "drawn. Calculate the probability that at least 10 draws are needed."
   ]
  },
  {
   "cell_type": "code",
   "execution_count": 15,
   "id": "62ab5277",
   "metadata": {},
   "outputs": [
    {
     "name": "stdout",
     "output_type": "stream",
     "text": [
      "[1] \"Probability that at least 10 draws are needed = 0.449137107141863\"\n"
     ]
    }
   ],
   "source": [
    "#it follows the geometric distribution \n",
    "ace <- 4/52\n",
    "draw <- pgeom(9, ace)\n",
    "p10 <- 1-draw\n",
    "print(paste(\"Probability that at least 10 draws are needed =\", p10))"
   ]
  },
  {
   "cell_type": "markdown",
   "id": "99efa9ca",
   "metadata": {},
   "source": [
    "5. \n",
    "  a) using the integrate() R function, determine the constant c (and verify it analytically)\n",
    "  \n",
    "  b) write the set of four R functions and plot the pdf and cdf, respectively\n",
    "  \n",
    "  c) evaluate the probability that the student will finish the aptitude test in more than\n",
    "  75 minutes. And that it will take 90 and 120 minutes."
   ]
  },
  {
   "cell_type": "markdown",
   "id": "73c7d223",
   "metadata": {},
   "source": [
    "f(t) is a pdf and must be normalized to get c:\n",
    "\n",
    "\\begin{equation}\n",
    "\\int_1^2 f(t) dt = 1 \\Longrightarrow \n",
    "c = \\left[ \\int_1^2 (t-1)(2-t) dt \\right]^{-1}\n",
    "\\end{equation}\n",
    "\n",
    "Analytical result:\n",
    "\n",
    "\\begin{equation}\n",
    "\\int_1^2 (t-1)(2-t) dt = \\left[ -\\frac{t^3}{3}+\\frac{3t^2}{2}-2t \\right]_1^2 = \\frac{1}{6}\\\\\n",
    "\\Longrightarrow c = 6\n",
    "\\end{equation}"
   ]
  },
  {
   "cell_type": "code",
   "execution_count": 38,
   "id": "bd332098",
   "metadata": {},
   "outputs": [
    {
     "name": "stdout",
     "output_type": "stream",
     "text": [
      "[1] \"c =  6\"\n"
     ]
    }
   ],
   "source": [
    "#numerical computation \n",
    "f_integral <- integrate(function(x) {(x-1)*(2-x)}, lower = 1, upper = 2)\n",
    "c <- 1/f_integral$value\n",
    "print(paste('c = ', c))"
   ]
  },
  {
   "cell_type": "markdown",
   "id": "49c62897",
   "metadata": {},
   "source": [
    "The pdf is given by: $f(t)$.\n",
    "\n",
    "The cdf is defined as: $F(X) = \\int_{-\\infty}^X f(t) dt$.\n",
    "The already computed integral of the pdf:\n",
    "$$\n",
    " 6 \\left[ \\frac{3t^2}{2}-\\frac{t^3}{3} -2t \\right]_{1}^X = \\left[ 9t^2-2t^3 -12t \\right]_{1}^X \n",
    "$$\n",
    "\n"
   ]
  },
  {
   "cell_type": "code",
   "execution_count": 39,
   "id": "6af39988",
   "metadata": {},
   "outputs": [
    {
     "data": {
      "image/png": "[encoded data removed]",
      "text/plain": [
       "plot without title"
      ]
     },
     "metadata": {},
     "output_type": "display_data"
    },
    {
     "data": {
      "image/png": "[encoded data removed]",
      "text/plain": [
       "plot without title"
      ]
     },
     "metadata": {},
     "output_type": "display_data"
    }
   ],
   "source": [
    "#pdf----------------------------------------------------------------------------\n",
    "dfun <- function (t) {\n",
    "    dfu <- ifelse((t>1 & t<2), c*(t-1)*(2-t), 0)\n",
    "    return (dfu)\n",
    "}\n",
    "dfun <- Vectorize(dfun)\n",
    "\n",
    "#cdf using integrate()----------------------------------------------------------\n",
    "pfun <- function(X) {\n",
    "    pfu <- ifelse((X>1 & X<2), \n",
    "                  integrate(dfun,1,X)$value,\n",
    "                  ifelse(X <= 1, 0, 1)\n",
    "                 )\n",
    "    return (pfu)\n",
    "}\n",
    "pfun <- Vectorize(pfun)\n",
    "\n",
    "#qf------------------------------------------------------------------------------\n",
    "qfu <- inverse(pfun, 1, 2)  \n",
    "qfu <- Vectorize(qfu)\n",
    "\n",
    "# generate random numbers sampled from our distribution with N samples------------\n",
    "rfun <- function(N, cdf, inf, sup) {\n",
    "    u <- runif(N)\n",
    "    rfu <- Vectorize(inverse(cdf, inf, sup)) #invert the cdf in the interval specified\n",
    "    return (rfu(u))\n",
    "}\n",
    "#plot settings\n",
    "t <- seq(0.5, 2.5, 0.05)\n",
    "pdf <- dfun(t)\n",
    "cdf <- pfun(t)\n",
    "qua <- qfu(cdf)\n",
    "df_plots  <- data.frame(t, pdf, cdf, qua)\n",
    "# plot pdf\n",
    "options(repr.plot.width=5, repr.plot.height=5)\n",
    "d_plot <- ggplot(df_plots, aes(x=t, y=pdf)) +\n",
    "            geom_line(color=\"darkorchid1\") +\n",
    "            geom_point(color=\"darkmagenta\")+\n",
    "            labs(title = \"Probability density function\") +\n",
    "            theme_classic()+\n",
    "            scale_x_continuous(name= \"time\")+\n",
    "            scale_y_continuous(breaks=seq(0, 1.5, 0.3))\n",
    "print(d_plot)\n",
    "# plot cdf\n",
    "p_plot <- ggplot(df_plots, aes(x=t, y=cdf)) +\n",
    "            geom_line( color=\"darkorchid3\") +\n",
    "            labs(title = \"Cumulative density function\") +\n",
    "            theme_classic()+\n",
    "            scale_x_continuous(name= \"time\")+\n",
    "            scale_y_continuous(breaks=seq(0, 1, 0.2))\n",
    "            \n",
    "print(p_plot)"
   ]
  },
  {
   "cell_type": "code",
   "execution_count": 40,
   "id": "2df717ec",
   "metadata": {},
   "outputs": [
    {
     "name": "stdout",
     "output_type": "stream",
     "text": [
      "[1] \"Probability that a student finishes the test in more than 75 minutes: 0.843749922465159\"\n",
      "[1] \"Probability that a student finishes the test in more than 90 minutes: 0.499999999496293\"\n",
      "[1] \"Probability that a student finishes the test in more than 120 minutes: 0\"\n",
      "[1] \"Probability that student needs between 90 and 120 minutes to finish the test: 0.5\"\n"
     ]
    }
   ],
   "source": [
    "#probability of more thn 75 minutes\n",
    "p_75 <- integrate(dfun, 75/60, Inf) #equivalent to calculate 1 - pf(75/60) with cdf\n",
    "print(paste(\"Probability that a student finishes the test in more than 75 minutes:\",p_75$value))\n",
    "#probability of more thn 90 minutes\n",
    "p_90 <- integrate(dfun, 90/60, Inf) #equivalent to calculate 1 - pf(90/60) with cdf\n",
    "print(paste(\"Probability that a student finishes the test in more than 90 minutes:\",p_90$value))\n",
    "#probability of more thn 120 minutes\n",
    "p_120 <- integrate(dfun, 120/60, Inf) #equivalent to calculate 1 - pf(120/60) with cdf\n",
    "print(paste(\"Probability that a student finishes the test in more than 120 minutes:\",p_120$value))\n",
    "#prob between 90 and 120 minutes\n",
    "p_90_120 <- integrate(dfun, 90/60, 120/60)\n",
    "print(paste(\"Probability that student needs between 90 and 120 minutes to finish the test:\",p_90_120$value))"
   ]
  },
  {
   "cell_type": "markdown",
   "id": "f33c3bda",
   "metadata": {},
   "source": [
    "6. \n",
    "  a) write the set of four R functions and plot the pdf and cdf, respectively\n",
    "  \n",
    "  b) determine the probability that tires will last less than 15000 km\n",
    "  \n",
    "  c) sample 3000 random variables from the distribution and determine the mean value\n",
    "  and the variance, using the expression V ar(X) = E[X2] - E[X]2\n",
    "  "
   ]
  },
  {
   "cell_type": "code",
   "execution_count": 34,
   "id": "62c2320c",
   "metadata": {},
   "outputs": [
    {
     "data": {
      "image/png": "[encoded data removed]",
      "text/plain": [
       "plot without title"
      ]
     },
     "metadata": {},
     "output_type": "display_data"
    },
    {
     "data": {
      "image/png": "[encoded data removed]",
      "text/plain": [
       "plot without title"
      ]
     },
     "metadata": {},
     "output_type": "display_data"
    }
   ],
   "source": [
    "# pdf --------------------------------------------------------------------------\n",
    "dfun <- function (x) {\n",
    "    dfu <- ifelse((x>1 & x<2), 2/x^2, 0)\n",
    "    return (dfu)\n",
    "}\n",
    "dfun <- Vectorize(dfun)\n",
    "\n",
    "# cdf--------------------------------------------------------------------------\n",
    "pfun <- function (X) {\n",
    "    pfu <- ifelse((X>1 & X<2), \n",
    "                  (-2/X+2),\n",
    "                  ifelse(X <= 1, 0, 1)\n",
    "                 )\n",
    "    return (pfu)\n",
    "}\n",
    "pfun <- Vectorize(pfun)\n",
    "\n",
    "# qf------------------------------------------------------------------------------\n",
    "qfun <- function (p) {\n",
    "    qfu <- 2/(2-p)\n",
    "    return (qfu)\n",
    "}\n",
    "qfun <- Vectorize(qfun)\n",
    "# Random sampling ---------------------------------------------------------------\n",
    "rfun <- function (N){\n",
    "    u <- runif(N)\n",
    "    rfu <- Vectorize(2/(2-u))\n",
    "    return(rfu)\n",
    "}\n",
    "\n",
    "#Plots to check results\n",
    "x <- seq(0.8, 2.2, 0.02)\n",
    "pdf <- dfun(x)\n",
    "cdf <- pfun(x)\n",
    "qua <- qfun(cdf)\n",
    "df_plots  <- data.frame(x, pdf, cdf, qua)\n",
    "# Plot of pdf\n",
    "options(repr.plot.width=5, repr.plot.height=5)\n",
    "d_plot <- ggplot(df_plots, aes(x=x, y=pdf)) +\n",
    "            geom_line(color=\"dodgerblue\") +\n",
    "            geom_point(color=\"darkseagreen\")+\n",
    "            labs(title = \"Probability density function\") +\n",
    "            theme_classic()+\n",
    "            scale_x_continuous(name= \"time\")+\n",
    "            scale_y_continuous(breaks=seq(0, 1.5, 0.3))\n",
    "print(d_plot)\n",
    "# plot cdf\n",
    "p_plot <- ggplot(df_plots, aes(x=x, y=cdf)) +\n",
    "            geom_line( color=\"dodgerblue\") +\n",
    "            labs(title = \"Cumulative density function\") +\n",
    "            theme_classic()+\n",
    "            scale_x_continuous(name= \"time\")+\n",
    "            scale_y_continuous(breaks=seq(0, 1, 0.2))\n",
    "            \n",
    "print(p_plot)"
   ]
  },
  {
   "cell_type": "code",
   "execution_count": 35,
   "id": "0d705a6a",
   "metadata": {},
   "outputs": [
    {
     "name": "stdout",
     "output_type": "stream",
     "text": [
      "[1] \"The probability that the tires will last less than 15000 km is: 0.666666674065053\"\n"
     ]
    }
   ],
   "source": [
    "# less than 15000km\n",
    "pd_15 <- integrate(dfun, -Inf, 1.5) # Integrating the pdf\n",
    "print(paste(\"The probability that the tires will last less than 15000 km is:\", pd_15$value))\n"
   ]
  },
  {
   "cell_type": "markdown",
   "id": "f999fc42",
   "metadata": {},
   "source": [
    "The expected values is computed by its definition $E(x) = \\int_{1}^{2} x \\cdot \\frac{1}{x^2}$"
   ]
  },
  {
   "cell_type": "code",
   "execution_count": 36,
   "id": "542893ae",
   "metadata": {},
   "outputs": [
    {
     "name": "stdout",
     "output_type": "stream",
     "text": [
      "[1] \"Expected value: 1.38629436111989\"\n",
      "[1] \"Variance: 0.0781879443271938\"\n"
     ]
    }
   ],
   "source": [
    "Ex <- integrate(function(x) {x*dfun(x)}, 1, 2)\n",
    "Ex2 <- integrate(function(x) {x^2*dfun(x)}, 1, 2)\n",
    "var <-  Ex2$value - (Ex$value)^2\n",
    "print(paste(\"Expected value:\", Ex$value))\n",
    "print(paste(\"Variance:\", var))"
   ]
  },
  {
   "cell_type": "code",
   "execution_count": null,
   "id": "7df67c21",
   "metadata": {},
   "outputs": [],
   "source": []
  }
 ],
 "metadata": {
  "kernelspec": {
   "display_name": "R",
   "language": "R",
   "name": "ir"
  },
  "language_info": {
   "codemirror_mode": "r",
   "file_extension": ".r",
   "mimetype": "text/x-r-source",
   "name": "R",
   "pygments_lexer": "r",
   "version": "3.6.1"
  }
 },
 "nbformat": 4,
 "nbformat_minor": 5
}
